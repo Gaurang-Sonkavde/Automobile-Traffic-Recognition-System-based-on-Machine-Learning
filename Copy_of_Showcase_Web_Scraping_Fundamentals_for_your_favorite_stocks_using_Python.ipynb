{
  "nbformat": 4,
  "nbformat_minor": 0,
  "metadata": {
    "colab": {
      "provenance": [],
      "collapsed_sections": [],
      "include_colab_link": true
    },
    "kernelspec": {
      "name": "python3",
      "display_name": "Python 3"
    },
    "language_info": {
      "name": "python"
    }
  },
  "cells": [
    {
      "cell_type": "markdown",
      "metadata": {
        "id": "view-in-github",
        "colab_type": "text"
      },
      "source": [
        "<a href=\"https://colab.research.google.com/github/Gaurang-Sonkavde/Automobile-Traffic-Recognition-System-based-on-Machine-Learning/blob/main/Copy_of_Showcase_Web_Scraping_Fundamentals_for_your_favorite_stocks_using_Python.ipynb\" target=\"_parent\"><img src=\"https://colab.research.google.com/assets/colab-badge.svg\" alt=\"Open In Colab\"/></a>"
      ]
    },
    {
      "cell_type": "code",
      "execution_count": 1,
      "metadata": {
        "id": "sIXvMESyRcIq"
      },
      "outputs": [],
      "source": [
        "# Importing all required python libraries for this project\n",
        "import pandas as pd\n",
        "import numpy as np\n",
        "from bs4 import BeautifulSoup as soup\n",
        "from urllib.request import Request, urlopen"
      ]
    },
    {
      "cell_type": "code",
      "source": [
        "# Defining an input for the user to select which stock to look up\n",
        "symbol = input('Enter the ticker you want to search for: ')\n",
        "print('Getting data for ' + symbol + '.....\\n')\n",
        "\n",
        "# Set up the Web Scraper\n",
        "url = ('https://finviz.com/quote.ashx?t=' + symbol.lower())\n",
        "req = Request(url, headers={'User-Agent': 'Mozilla/5.0'})\n",
        "website = urlopen(req).read()\n",
        "html = soup(website, 'html.parser')\n",
        "\n",
        "def fundamentals():\n",
        "  try:\n",
        "    # Find fundamentlas table in the html code\n",
        "    fundamentals = pd.read_html(str(html), attrs = {'class': 'snapshot-table2'})[0]\n",
        "\n",
        "    # Clean the data\n",
        "    fundamentals.columns = ['0', '1', '2', '3', '4', '5', '6', '7', '8', '9', '10', '11']\n",
        "    col1 = []\n",
        "    colLength = len(fundamentals)\n",
        "    print(colLength)\n",
        "    for i in np.arange(0, colLength, 2):\n",
        "      col1.append(fundamentals[f'{i}'])\n",
        "    attributes = pd.concat(col1, ignore_index=True)\n",
        "    \n",
        "    col2 = []\n",
        "    colLength = len(fundamentals)\n",
        "    for i in np.arange(1, colLength, 2):\n",
        "      col2.append(fundamentals[f'{i}'])\n",
        "    values = pd.concat(col2, ignore_index=True)\n",
        "\n",
        "    fundamentals = pd.DataFrame()\n",
        "    fundamentals['Attributes'] = attributes\n",
        "    fundamentals['Values'] = values\n",
        "    fundamentals = fundamentals.set_index('Attributes')\n",
        "    return fundamentals\n",
        "\n",
        "  except Exception as e:\n",
        "    print(e)\n",
        "\n",
        "\n",
        "def news():\n",
        "  try:\n",
        "    # Finding the news table\n",
        "    news = pd.read_html(str(html), attrs = {'class': 'fullview-news-outer'})[0]\n",
        "    links = []\n",
        "    for i in html.find_all('a', class_='tab-link-news'):\n",
        "      links.append(i['href'])\n",
        "\n",
        "    # Clean the data\n",
        "    news.columns = ['Date', 'News headline']\n",
        "    news['Article link'] = links\n",
        "    news = news.set_index('Date')\n",
        "    return news\n",
        "\n",
        "  except Exception as e:\n",
        "    print(e)\n",
        "\n",
        "def insider_trades():\n",
        "  try:\n",
        "    # Find the insider trades table\n",
        "    trades = pd.read_html(str(html), attrs = {'class': 'body-table'})[0]\n",
        "    trades.columns = ['Trader', 'Relationship', 'Date', 'Transaction', 'Cost', '# Shares', 'Value ($)', 'Shares total', 'SEC Form 4']\n",
        "    trades = trades[['Date', 'Trader', 'Relationship', 'Transaction', 'Cost', '# Shares', 'Value ($)']]\n",
        "    return trades\n",
        "  except Exception as e:\n",
        "    print(e)\n",
        "\n",
        "\n",
        "# Returning the information in print statements (alternatively as an example this could be stored in dataframes, etc and returned to a web app)\n",
        "print('Fundamentals Ratios: ')\n",
        "print(fundamentals())\n",
        "print('\\n-----')\n",
        "print('Recent news: ')\n",
        "print(news())\n",
        "print('\\n-----')\n",
        "print('Recent Insider Trades: ')\n",
        "print(insider_trades())"
      ],
      "metadata": {
        "colab": {
          "base_uri": "https://localhost:8080/"
        },
        "id": "z55FQ_cNXSvA",
        "outputId": "66a02cc3-60a5-424b-e4ca-68858dd6631b"
      },
      "execution_count": 2,
      "outputs": [
        {
          "output_type": "stream",
          "name": "stdout",
          "text": [
            "Enter the ticker you want to search for: AAPL\n",
            "Getting data for AAPL.....\n",
            "\n",
            "Fundamentals Ratios: \n",
            "12\n",
            "                 Values\n",
            "Attributes             \n",
            "Index       DJIA S&P500\n",
            "Market Cap     2338.50B\n",
            "Income           99.63B\n",
            "Sales           387.54B\n",
            "Book/sh            3.60\n",
            "...                 ...\n",
            "ATR                4.75\n",
            "Volatility  3.12% 3.13%\n",
            "Prev Close       147.27\n",
            "Price            149.45\n",
            "Change            1.48%\n",
            "\n",
            "[72 rows x 1 columns]\n",
            "\n",
            "-----\n",
            "Recent news: \n",
            "Length of values (100) does not match length of index (103)\n",
            "None\n",
            "\n",
            "-----\n",
            "Recent Insider Trades: \n",
            "      Date              Trader                  Relationship  Transaction  \\\n",
            "0     Date     Insider Trading                  Relationship  Transaction   \n",
            "1   Oct 17     O'BRIEN DEIRDRE         Senior Vice President         Sale   \n",
            "2   Oct 03     O'BRIEN DEIRDRE         Senior Vice President         Sale   \n",
            "3   Oct 03  Adams Katherine L.         SVP, GC and Secretary         Sale   \n",
            "4   Aug 17        Maestri Luca    Senior Vice President, CFO         Sale   \n",
            "5   Aug 03  Adams Katherine L.         SVP, GC and Secretary         Sale   \n",
            "6   May 04  Adams Katherine L.         SVP, GC and Secretary         Sale   \n",
            "7   Apr 18     O'BRIEN DEIRDRE         Senior Vice President         Sale   \n",
            "8   Apr 04  WILLIAMS JEFFREY E                           COO         Sale   \n",
            "9   Apr 04     O'BRIEN DEIRDRE         Senior Vice President         Sale   \n",
            "10  Feb 03  Adams Katherine L.         SVP, GC and Secretary         Sale   \n",
            "11  Feb 01   LEVINSON ARTHUR D                      Director         Sale   \n",
            "12  Nov 12         KONDO CHRIS  Principal Accounting Officer         Sale   \n",
            "13  Nov 01  Adams Katherine L.         SVP, GC and Secretary         Sale   \n",
            "\n",
            "      Cost # Shares  Value ($)  \n",
            "0     Cost  #Shares  Value ($)  \n",
            "1   142.45     8053    1147150  \n",
            "2   142.16   176299   25062882  \n",
            "3   141.41   181139   25615117  \n",
            "4   174.95    96735   16924259  \n",
            "5   164.77    25000    4119155  \n",
            "6   161.72    25000    4042888  \n",
            "7   164.91     8000    1319305  \n",
            "8   177.75   105901   18824389  \n",
            "9   177.77    29198    5190427  \n",
            "10  174.78    25000    4369548  \n",
            "11  173.29     1986     344154  \n",
            "12  150.00     9005    1350750  \n",
            "13  148.68    25000    3716895  \n"
          ]
        }
      ]
    },
    {
      "cell_type": "code",
      "source": [],
      "metadata": {
        "id": "NRV_47RQbngJ"
      },
      "execution_count": null,
      "outputs": []
    }
  ]
}